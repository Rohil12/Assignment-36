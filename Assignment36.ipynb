{
 "cells": [
  {
   "cell_type": "code",
   "execution_count": 9,
   "id": "e48ddbf0-9085-4789-b085-5c9e39c5ed2c",
   "metadata": {},
   "outputs": [],
   "source": [
    "# Q.1\n",
    "import scipy.stats as stats\n",
    "\n",
    "def variance_ratio_test(array1, array2):\n",
    "  \"\"\"\n",
    "  Calculates the F-value and p-value for a variance ratio test.\n",
    "\n",
    "  Args:\n",
    "    array1: The first array of data.\n",
    "    array2: The second array of data.\n",
    "\n",
    "  Returns:\n",
    "    A tuple containing the F-value and p-value.\n",
    "  \"\"\"\n",
    "\n",
    "  # Calculate the variances of the two arrays\n",
    "  var1 = stats.variance(array1)\n",
    "  var2 = stats.variance(array2)\n",
    "\n",
    "  # Calculate the F-value\n",
    "  f_value = var1 / var2\n",
    "\n",
    "  # Calculate the degrees of freedom for each array\n",
    "  df1 = len(array1) - 1\n",
    "  df2 = len(array2) - 1\n",
    "\n",
    "  # Calculate the p-value\n",
    "  p_value = stats.f.sf(f_value, df1, df2)\n",
    "\n",
    "  return f_value, p_value"
   ]
  },
  {
   "cell_type": "code",
   "execution_count": 10,
   "id": "7e662edc-23fb-4760-b82c-e905abe13546",
   "metadata": {},
   "outputs": [
    {
     "name": "stdout",
     "output_type": "stream",
     "text": [
      "Lower critical F-value: 0.11763327036586986\n",
      "Upper critical F-value: 3.353009236148299\n"
     ]
    }
   ],
   "source": [
    "# Q.2\n",
    "from scipy.stats import f\n",
    "\n",
    "def critical_f_value(alpha, dfn, dfd):\n",
    "    # Calculate the F-value for the lower tail\n",
    "    lower_critical_value = f.ppf(alpha / 2, dfn, dfd)\n",
    "    # Calculate the F-value for the upper tail\n",
    "    upper_critical_value = f.ppf(1 - alpha / 2, dfn, dfd)\n",
    "    return lower_critical_value, upper_critical_value\n",
    "\n",
    "# Example usage\n",
    "alpha = 0.05\n",
    "dfn = 4  # degrees of freedom for numerator\n",
    "dfd = 25  # degrees of freedom for denominator\n",
    "\n",
    "lower_critical, upper_critical = critical_f_value(alpha, dfn, dfd)\n",
    "print(\"Lower critical F-value:\", lower_critical)\n",
    "print(\"Upper critical F-value:\", upper_critical)\n"
   ]
  },
  {
   "cell_type": "code",
   "execution_count": 15,
   "id": "4b3f8180-8dc6-4c26-a62b-869fe82369cf",
   "metadata": {},
   "outputs": [
    {
     "name": "stdout",
     "output_type": "stream",
     "text": [
      "F-value: 1.5533055015651915\n",
      "Degrees of freedom (numerator, denominator): (29, 29)\n",
      "P-value: 0.1208115096730753\n"
     ]
    }
   ],
   "source": [
    "# Q.3\n",
    "import numpy as np\n",
    "from scipy.stats import f\n",
    "\n",
    "def f_test(sample1, sample2):\n",
    "    # Calculate the variances\n",
    "    var1 = np.var(sample1, ddof=1)\n",
    "    var2 = np.var(sample2, ddof=1)\n",
    "\n",
    "    # Calculate the F-value\n",
    "    f_value = var1 / var2 if var1 > var2 else var2 / var1\n",
    "\n",
    "    # Degrees of freedom\n",
    "    dfn = len(sample1) - 1  # degrees of freedom for numerator\n",
    "    dfd = len(sample2) - 1  # degrees of freedom for denominator\n",
    "\n",
    "    # Calculate the p-value\n",
    "    p_value = 1 - f.cdf(f_value, dfn, dfd)\n",
    "\n",
    "    return f_value, dfn, dfd, p_value\n",
    "\n",
    "def main():\n",
    "    # Generate random samples from two normal distributions\n",
    "    np.random.seed(0)  # For reproducibility\n",
    "    sample1 = np.random.normal(loc=0, scale=1, size=30)\n",
    "    sample2 = np.random.normal(loc=0, scale=1.5, size=30)\n",
    "\n",
    "    # Perform the F-test\n",
    "    f_value, dfn, dfd, p_value = f_test(sample1, sample2)\n",
    "\n",
    "    # Output the results\n",
    "    print(f\"F-value: {f_value}\")\n",
    "    print(f\"Degrees of freedom (numerator, denominator): ({dfn}, {dfd})\")\n",
    "    print(f\"P-value: {p_value}\")\n",
    "\n",
    "if __name__ == \"__main__\":\n",
    "    main()\n"
   ]
  },
  {
   "cell_type": "code",
   "execution_count": 16,
   "id": "52c558d7-8cb3-4649-aaed-1c01fb8f04a3",
   "metadata": {},
   "outputs": [
    {
     "name": "stdout",
     "output_type": "stream",
     "text": [
      "F-value:1.5\n",
      "lower critical  F-value:0.28787755798459863\n",
      "upper critical F-value:3.473699051085809\n",
      "fail to reject the null hypothesis: the variances are not significantly different\n"
     ]
    }
   ],
   "source": [
    "# Q.4\n",
    "from scipy.stats import f\n",
    "\n",
    "alpha = 0.05\n",
    "dfn = 11\n",
    "dfd=11\n",
    "\n",
    "critical_value_lower = f.ppf(alpha/2,dfn,dfd)\n",
    "critical_value_upper = f.ppf(1-alpha/2,dfn,dfd)\n",
    "\n",
    "f_value = 15/10\n",
    "\n",
    "print(f\"F-value:{f_value}\")\n",
    "print(f\"lower critical  F-value:{critical_value_lower}\")\n",
    "print(f\"upper critical F-value:{critical_value_upper}\")\n",
    "\n",
    "if f_value < critical_value_lower or f_value > critical_value_upper:\n",
    "    print(\"reject the null hypothesis: the  variances are significantly different.\")\n",
    "else:\n",
    "    print(\"fail to reject the null hypothesis: the variances are not significantly different\")"
   ]
  },
  {
   "cell_type": "code",
   "execution_count": 17,
   "id": "c4b0b7c8-b245-4f9a-ba62-501c5961b030",
   "metadata": {},
   "outputs": [
    {
     "name": "stdout",
     "output_type": "stream",
     "text": [
      "F-value: 1.2\n",
      "Upper critical F-value: nan\n",
      "Fail to reject the null hypothesis: The variances are not significantly different.\n"
     ]
    }
   ],
   "source": [
    "# Q.5\n",
    "from scipy.stats import f\n",
    "\n",
    "# Given values\n",
    "alpha = 0.01\n",
    "dfn = 24  # degrees of freedom for numerator\n",
    "dfd = float('inf')  # assumed to be large\n",
    "\n",
    "# Calculate the critical F-value for a one-tailed test (upper)\n",
    "critical_value_upper = f.ppf(1 - alpha / 2, dfn, dfd)\n",
    "\n",
    "# Calculate the F-value\n",
    "f_value = 0.006 / 0.005\n",
    "\n",
    "print(f\"F-value: {f_value}\")\n",
    "print(f\"Upper critical F-value: {critical_value_upper}\")\n",
    "\n",
    "# Decision\n",
    "if f_value > critical_value_upper:\n",
    "    print(\"Reject the null hypothesis: The variances are significantly different.\")\n",
    "else:\n",
    "    print(\"Fail to reject the null hypothesis: The variances are not significantly different.\")\n"
   ]
  },
  {
   "cell_type": "code",
   "execution_count": 18,
   "id": "9e41b305-75ed-4872-986e-ecd40b170fe0",
   "metadata": {},
   "outputs": [
    {
     "name": "stdout",
     "output_type": "stream",
     "text": [
      "Mean: 1.25\n",
      "Variance: 1.3541666666666667\n"
     ]
    }
   ],
   "source": [
    "# Q.6\n",
    "def f_distribution_mean_variance(dfn, dfd):\n",
    "    if dfd <= 2:\n",
    "        mean = float('inf')  # Mean is undefined for df2 <= 2\n",
    "    else:\n",
    "        mean = dfd / (dfd - 2)\n",
    "\n",
    "    if dfd <= 4:\n",
    "        variance = float('inf')  # Variance is undefined for df2 <= 4\n",
    "    else:\n",
    "        variance = (2 * (dfd ** 2) * (dfn + dfd - 2)) / (dfn * (dfd - 2) ** 2 * (dfd - 4))\n",
    "    \n",
    "    return mean, variance\n",
    "\n",
    "# Example usage\n",
    "dfn = 5  # degrees of freedom for numerator\n",
    "dfd = 10  # degrees of freedom for denominator\n",
    "\n",
    "mean, variance = f_distribution_mean_variance(dfn, dfd)\n",
    "print(f\"Mean: {mean}\")\n",
    "print(f\"Variance: {variance}\")\n"
   ]
  },
  {
   "cell_type": "code",
   "execution_count": 19,
   "id": "74f99aa7-4bfc-457d-b533-82ffbc8d6707",
   "metadata": {},
   "outputs": [
    {
     "name": "stdout",
     "output_type": "stream",
     "text": [
      "F-value: 1.25\n",
      "Lower critical F-value: 0.3305268601412525\n",
      "Upper critical F-value: 2.6457907352338195\n",
      "Fail to reject the null hypothesis: The variances are not significantly different.\n"
     ]
    }
   ],
   "source": [
    "# Q.7\n",
    "from scipy.stats import f\n",
    "\n",
    "# Given values\n",
    "alpha = 0.10\n",
    "dfn = 9  # degrees of freedom for numerator\n",
    "dfd = 14  # degrees of freedom for denominator\n",
    "\n",
    "# Calculate the critical F-value for a two-tailed test\n",
    "critical_value_upper = f.ppf(1 - alpha / 2, dfn, dfd)\n",
    "critical_value_lower = f.ppf(alpha / 2, dfn, dfd)\n",
    "\n",
    "# Calculate the F-value\n",
    "f_value = 25 / 20\n",
    "\n",
    "print(f\"F-value: {f_value}\")\n",
    "print(f\"Lower critical F-value: {critical_value_lower}\")\n",
    "print(f\"Upper critical F-value: {critical_value_upper}\")\n",
    "\n",
    "# Decision\n",
    "if f_value < critical_value_lower or f_value > critical_value_upper:\n",
    "    print(\"Reject the null hypothesis: The variances are significantly different.\")\n",
    "else:\n",
    "    print(\"Fail to reject the null hypothesis: The variances are not significantly different.\")\n"
   ]
  },
  {
   "cell_type": "code",
   "execution_count": 20,
   "id": "915c2256-611d-4104-9703-046ea13f814d",
   "metadata": {},
   "outputs": [
    {
     "name": "stdout",
     "output_type": "stream",
     "text": [
      "F-value: 1.4551907719609583\n",
      "Lower critical F-value: 0.16701279718024772\n",
      "Upper critical F-value: 6.977701858535566\n",
      "Fail to reject the null hypothesis: The variances are not significantly different.\n"
     ]
    }
   ],
   "source": [
    "# Q.8\n",
    "import numpy as np\n",
    "from scipy.stats import f\n",
    "\n",
    "# Given data\n",
    "restaurant_a = [24, 25, 28, 23, 22, 20, 27]\n",
    "restaurant_b = [31, 33, 35, 30, 32, 36]\n",
    "\n",
    "# Calculate sample variances\n",
    "var_a = np.var(restaurant_a, ddof=1)\n",
    "var_b = np.var(restaurant_b, ddof=1)\n",
    "\n",
    "# Degrees of freedom\n",
    "dfn = len(restaurant_a) - 1\n",
    "dfd = len(restaurant_b) - 1\n",
    "\n",
    "# Calculate the F-value\n",
    "f_value = var_a / var_b if var_a > var_b else var_b / var_a\n",
    "\n",
    "# Calculate the critical F-value for a two-tailed test\n",
    "alpha = 0.05\n",
    "critical_value_upper = f.ppf(1 - alpha / 2, dfn, dfd)\n",
    "critical_value_lower = f.ppf(alpha / 2, dfn, dfd)\n",
    "\n",
    "print(f\"F-value: {f_value}\")\n",
    "print(f\"Lower critical F-value: {critical_value_lower}\")\n",
    "print(f\"Upper critical F-value: {critical_value_upper}\")\n",
    "\n",
    "# Decision\n",
    "if f_value < critical_value_lower or f_value > critical_value_upper:\n",
    "    print(\"Reject the null hypothesis: The variances are significantly different.\")\n",
    "else:\n",
    "    print(\"Fail to reject the null hypothesis: The variances are not significantly different.\")\n"
   ]
  },
  {
   "cell_type": "code",
   "execution_count": 21,
   "id": "730f50f3-01eb-42e8-872e-bc304470479c",
   "metadata": {},
   "outputs": [
    {
     "name": "stdout",
     "output_type": "stream",
     "text": [
      "F-value: 1.9442622950819677\n",
      "Lower critical F-value: 0.06693617195469603\n",
      "Upper critical F-value: 14.939605459912219\n",
      "Fail to reject the null hypothesis: The variances are not significantly different.\n"
     ]
    }
   ],
   "source": [
    "# Q.9\n",
    "import numpy as np\n",
    "from scipy.stats import f\n",
    "\n",
    "# Given data\n",
    "group_a = [80, 85, 90, 92, 87, 83]\n",
    "group_b = [75, 78, 82, 79, 81, 84]\n",
    "\n",
    "# Calculate sample variances\n",
    "var_a = np.var(group_a, ddof=1)\n",
    "var_b = np.var(group_b, ddof=1)\n",
    "\n",
    "# Degrees of freedom\n",
    "dfn = len(group_a) - 1\n",
    "dfd = len(group_b) - 1\n",
    "\n",
    "# Calculate the F-value\n",
    "f_value = var_a / var_b if var_a > var_b else var_b / var_a\n",
    "\n",
    "# Calculate the critical F-value for a two-tailed test\n",
    "alpha = 0.01\n",
    "critical_value_upper = f.ppf(1 - alpha / 2, dfn, dfd)\n",
    "critical_value_lower = f.ppf(alpha / 2, dfn, dfd)\n",
    "\n",
    "print(f\"F-value: {f_value}\")\n",
    "print(f\"Lower critical F-value: {critical_value_lower}\")\n",
    "print(f\"Upper critical F-value: {critical_value_upper}\")\n",
    "\n",
    "# Decision\n",
    "if f_value < critical_value_lower or f_value > critical_value_upper:\n",
    "    print(\"Reject the null hypothesis: The variances are significantly different.\")\n",
    "else:\n",
    "    print(\"Fail to reject the null hypothesis: The variances are not significantly different.\")\n",
    "\n"
   ]
  },
  {
   "cell_type": "code",
   "execution_count": null,
   "id": "c9fdf260-a9e9-48ac-9771-ee50ea712678",
   "metadata": {},
   "outputs": [],
   "source": []
  }
 ],
 "metadata": {
  "kernelspec": {
   "display_name": "Python 3 (ipykernel)",
   "language": "python",
   "name": "python3"
  },
  "language_info": {
   "codemirror_mode": {
    "name": "ipython",
    "version": 3
   },
   "file_extension": ".py",
   "mimetype": "text/x-python",
   "name": "python",
   "nbconvert_exporter": "python",
   "pygments_lexer": "ipython3",
   "version": "3.11.3"
  }
 },
 "nbformat": 4,
 "nbformat_minor": 5
}
